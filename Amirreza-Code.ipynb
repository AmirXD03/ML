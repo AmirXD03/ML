{
 "cells": [
  {
   "cell_type": "code",
   "execution_count": 2,
   "metadata": {},
   "outputs": [],
   "source": [
    "import matplotlib.pyplot as plt\n",
    "import numpy as np\n",
    "import pandas as pd"
   ]
  },
  {
   "cell_type": "code",
   "execution_count": 3,
   "metadata": {},
   "outputs": [
    {
     "data": {
      "text/html": [
       "<div>\n",
       "<style scoped>\n",
       "    .dataframe tbody tr th:only-of-type {\n",
       "        vertical-align: middle;\n",
       "    }\n",
       "\n",
       "    .dataframe tbody tr th {\n",
       "        vertical-align: top;\n",
       "    }\n",
       "\n",
       "    .dataframe thead th {\n",
       "        text-align: right;\n",
       "    }\n",
       "</style>\n",
       "<table border=\"1\" class=\"dataframe\">\n",
       "  <thead>\n",
       "    <tr style=\"text-align: right;\">\n",
       "      <th></th>\n",
       "      <th>Model Name</th>\n",
       "      <th>Engine Type</th>\n",
       "      <th>HP or lbs thr ea engine</th>\n",
       "      <th>Max speed Knots</th>\n",
       "      <th>Rcmnd cruise Knots</th>\n",
       "      <th>Stall Knots dirty</th>\n",
       "      <th>Fuel gal/lbs</th>\n",
       "      <th>All eng rate of climb</th>\n",
       "      <th>Eng out rate of climb</th>\n",
       "      <th>Takeoff over 50ft</th>\n",
       "      <th>Landing over 50ft</th>\n",
       "      <th>Empty weight lbs</th>\n",
       "      <th>Length ft/in</th>\n",
       "      <th>Wing span ft/in</th>\n",
       "      <th>Range N.M.</th>\n",
       "      <th>Price</th>\n",
       "    </tr>\n",
       "  </thead>\n",
       "  <tbody>\n",
       "    <tr>\n",
       "      <th>0</th>\n",
       "      <td>100 Darter (S.L. Industries)</td>\n",
       "      <td>Piston</td>\n",
       "      <td>145</td>\n",
       "      <td>104</td>\n",
       "      <td>91.0</td>\n",
       "      <td>46.0</td>\n",
       "      <td>36</td>\n",
       "      <td>450</td>\n",
       "      <td>900.0</td>\n",
       "      <td>1300.0</td>\n",
       "      <td>2,050</td>\n",
       "      <td>1,180</td>\n",
       "      <td>25/3</td>\n",
       "      <td>37/5</td>\n",
       "      <td>370</td>\n",
       "      <td>1300000.0</td>\n",
       "    </tr>\n",
       "    <tr>\n",
       "      <th>1</th>\n",
       "      <td>7 CCM Champ</td>\n",
       "      <td>Piston</td>\n",
       "      <td>85</td>\n",
       "      <td>89</td>\n",
       "      <td>83.0</td>\n",
       "      <td>44.0</td>\n",
       "      <td>15</td>\n",
       "      <td>600</td>\n",
       "      <td>720.0</td>\n",
       "      <td>800.0</td>\n",
       "      <td>1,350</td>\n",
       "      <td>820</td>\n",
       "      <td>20/7</td>\n",
       "      <td>36/1</td>\n",
       "      <td>190</td>\n",
       "      <td>1230000.0</td>\n",
       "    </tr>\n",
       "    <tr>\n",
       "      <th>2</th>\n",
       "      <td>100 Darter (S.L. Industries)</td>\n",
       "      <td>Piston</td>\n",
       "      <td>90</td>\n",
       "      <td>90</td>\n",
       "      <td>78.0</td>\n",
       "      <td>37.0</td>\n",
       "      <td>19</td>\n",
       "      <td>650</td>\n",
       "      <td>475.0</td>\n",
       "      <td>850.0</td>\n",
       "      <td>1,300</td>\n",
       "      <td>810</td>\n",
       "      <td>21/5</td>\n",
       "      <td>35/0</td>\n",
       "      <td>210</td>\n",
       "      <td>1600000.0</td>\n",
       "    </tr>\n",
       "    <tr>\n",
       "      <th>3</th>\n",
       "      <td>7 AC Champ</td>\n",
       "      <td>Piston</td>\n",
       "      <td>85</td>\n",
       "      <td>88</td>\n",
       "      <td>78.0</td>\n",
       "      <td>37.0</td>\n",
       "      <td>19</td>\n",
       "      <td>620</td>\n",
       "      <td>500.0</td>\n",
       "      <td>850.0</td>\n",
       "      <td>1,300</td>\n",
       "      <td>800</td>\n",
       "      <td>21/5</td>\n",
       "      <td>35/0</td>\n",
       "      <td>210</td>\n",
       "      <td>1300000.0</td>\n",
       "    </tr>\n",
       "    <tr>\n",
       "      <th>4</th>\n",
       "      <td>100 Darter (S.L. Industries)</td>\n",
       "      <td>Piston</td>\n",
       "      <td>65</td>\n",
       "      <td>83</td>\n",
       "      <td>74.0</td>\n",
       "      <td>33.0</td>\n",
       "      <td>14</td>\n",
       "      <td>370</td>\n",
       "      <td>632.0</td>\n",
       "      <td>885.0</td>\n",
       "      <td>1,220</td>\n",
       "      <td>740</td>\n",
       "      <td>21/5</td>\n",
       "      <td>35/0</td>\n",
       "      <td>175</td>\n",
       "      <td>1250000.0</td>\n",
       "    </tr>\n",
       "    <tr>\n",
       "      <th>5</th>\n",
       "      <td>PA-60-700P Aerostar (preliminary)</td>\n",
       "      <td>Piston</td>\n",
       "      <td>65</td>\n",
       "      <td>78</td>\n",
       "      <td>72.0</td>\n",
       "      <td>33.0</td>\n",
       "      <td>15</td>\n",
       "      <td>360</td>\n",
       "      <td>583.0</td>\n",
       "      <td>880.0</td>\n",
       "      <td>1,250</td>\n",
       "      <td>786</td>\n",
       "      <td>20/4</td>\n",
       "      <td>36/1</td>\n",
       "      <td>180</td>\n",
       "      <td>1100000.0</td>\n",
       "    </tr>\n",
       "    <tr>\n",
       "      <th>6</th>\n",
       "      <td>PA-601P pressurized Aerostar ('77 service ceil...</td>\n",
       "      <td>Piston</td>\n",
       "      <td>350</td>\n",
       "      <td>264</td>\n",
       "      <td>230.0</td>\n",
       "      <td>80.0</td>\n",
       "      <td>165</td>\n",
       "      <td>1,820</td>\n",
       "      <td>3080.0</td>\n",
       "      <td>2100.0</td>\n",
       "      <td>6,315</td>\n",
       "      <td>4,275</td>\n",
       "      <td>34/10</td>\n",
       "      <td>36/8</td>\n",
       "      <td>868</td>\n",
       "      <td>2500000.0</td>\n",
       "    </tr>\n",
       "    <tr>\n",
       "      <th>7</th>\n",
       "      <td>100 Darter (S.L. Industries)</td>\n",
       "      <td>Piston</td>\n",
       "      <td>290</td>\n",
       "      <td>262</td>\n",
       "      <td>247.0</td>\n",
       "      <td>77.0</td>\n",
       "      <td>165</td>\n",
       "      <td>1,755</td>\n",
       "      <td>2250.0</td>\n",
       "      <td>2076.0</td>\n",
       "      <td>6,000</td>\n",
       "      <td>4,125</td>\n",
       "      <td>34/9</td>\n",
       "      <td>36/7</td>\n",
       "      <td>1,020</td>\n",
       "      <td>2800000.0</td>\n",
       "    </tr>\n",
       "    <tr>\n",
       "      <th>8</th>\n",
       "      <td>PA-601, 601A, turbochg Aerostar</td>\n",
       "      <td>Piston</td>\n",
       "      <td>290</td>\n",
       "      <td>257</td>\n",
       "      <td>235.0</td>\n",
       "      <td>77.0</td>\n",
       "      <td>165</td>\n",
       "      <td>1,460</td>\n",
       "      <td>2490.0</td>\n",
       "      <td>2030.0</td>\n",
       "      <td>6,000</td>\n",
       "      <td>4,056</td>\n",
       "      <td>34/10</td>\n",
       "      <td>36/8</td>\n",
       "      <td>1,101</td>\n",
       "      <td>2500000.0</td>\n",
       "    </tr>\n",
       "    <tr>\n",
       "      <th>9</th>\n",
       "      <td>100 Darter (S.L. Industries)</td>\n",
       "      <td>Piston</td>\n",
       "      <td>290</td>\n",
       "      <td>257</td>\n",
       "      <td>237.0</td>\n",
       "      <td>77.0</td>\n",
       "      <td>165</td>\n",
       "      <td>1,460</td>\n",
       "      <td>2490.0</td>\n",
       "      <td>2030.0</td>\n",
       "      <td>6,000</td>\n",
       "      <td>3,958</td>\n",
       "      <td>34/10</td>\n",
       "      <td>36/8</td>\n",
       "      <td>1,174</td>\n",
       "      <td>3000000.0</td>\n",
       "    </tr>\n",
       "  </tbody>\n",
       "</table>\n",
       "</div>"
      ],
      "text/plain": [
       "                                          Model Name Engine Type  \\\n",
       "0                       100 Darter (S.L. Industries)      Piston   \n",
       "1                                        7 CCM Champ      Piston   \n",
       "2                       100 Darter (S.L. Industries)      Piston   \n",
       "3                                         7 AC Champ      Piston   \n",
       "4                       100 Darter (S.L. Industries)      Piston   \n",
       "5                  PA-60-700P Aerostar (preliminary)      Piston   \n",
       "6  PA-601P pressurized Aerostar ('77 service ceil...      Piston   \n",
       "7                       100 Darter (S.L. Industries)      Piston   \n",
       "8                    PA-601, 601A, turbochg Aerostar      Piston   \n",
       "9                       100 Darter (S.L. Industries)      Piston   \n",
       "\n",
       "  HP or lbs thr ea engine Max speed Knots  Rcmnd cruise Knots  \\\n",
       "0                     145             104                91.0   \n",
       "1                      85              89                83.0   \n",
       "2                      90              90                78.0   \n",
       "3                      85              88                78.0   \n",
       "4                      65              83                74.0   \n",
       "5                      65              78                72.0   \n",
       "6                     350             264               230.0   \n",
       "7                     290             262               247.0   \n",
       "8                     290             257               235.0   \n",
       "9                     290             257               237.0   \n",
       "\n",
       "   Stall Knots dirty  Fuel gal/lbs All eng rate of climb  \\\n",
       "0               46.0            36                   450   \n",
       "1               44.0            15                   600   \n",
       "2               37.0            19                   650   \n",
       "3               37.0            19                   620   \n",
       "4               33.0            14                   370   \n",
       "5               33.0            15                   360   \n",
       "6               80.0           165                 1,820   \n",
       "7               77.0           165                 1,755   \n",
       "8               77.0           165                 1,460   \n",
       "9               77.0           165                 1,460   \n",
       "\n",
       "   Eng out rate of climb  Takeoff over 50ft Landing over 50ft  \\\n",
       "0                  900.0             1300.0             2,050   \n",
       "1                  720.0              800.0             1,350   \n",
       "2                  475.0              850.0             1,300   \n",
       "3                  500.0              850.0             1,300   \n",
       "4                  632.0              885.0             1,220   \n",
       "5                  583.0              880.0             1,250   \n",
       "6                 3080.0             2100.0             6,315   \n",
       "7                 2250.0             2076.0             6,000   \n",
       "8                 2490.0             2030.0             6,000   \n",
       "9                 2490.0             2030.0             6,000   \n",
       "\n",
       "  Empty weight lbs Length ft/in Wing span ft/in Range N.M.      Price  \n",
       "0            1,180         25/3            37/5        370  1300000.0  \n",
       "1              820         20/7            36/1        190  1230000.0  \n",
       "2              810         21/5            35/0        210  1600000.0  \n",
       "3              800         21/5            35/0        210  1300000.0  \n",
       "4              740         21/5            35/0        175  1250000.0  \n",
       "5              786         20/4            36/1        180  1100000.0  \n",
       "6            4,275        34/10            36/8        868  2500000.0  \n",
       "7            4,125         34/9            36/7      1,020  2800000.0  \n",
       "8            4,056        34/10            36/8      1,101  2500000.0  \n",
       "9            3,958        34/10            36/8      1,174  3000000.0  "
      ]
     },
     "execution_count": 3,
     "metadata": {},
     "output_type": "execute_result"
    }
   ],
   "source": [
    "df = pd.read_csv('PlanePrice.csv')\n",
    "df.head(10)"
   ]
  },
  {
   "cell_type": "code",
   "execution_count": 4,
   "metadata": {},
   "outputs": [
    {
     "data": {
      "text/plain": [
       "(517, 16)"
      ]
     },
     "execution_count": 4,
     "metadata": {},
     "output_type": "execute_result"
    }
   ],
   "source": [
    "df.shape"
   ]
  },
  {
   "cell_type": "code",
   "execution_count": 5,
   "metadata": {},
   "outputs": [
    {
     "data": {
      "text/plain": [
       "Price\n",
       "4500000.0    27\n",
       "2000000.0    23\n",
       "2500000.0    23\n",
       "4100000.0    20\n",
       "1600000.0    13\n",
       "             ..\n",
       "1940000.0     1\n",
       "3584000.0     1\n",
       "3200000.0     1\n",
       "3240000.0     1\n",
       "3160000.0     1\n",
       "Name: count, Length: 177, dtype: int64"
      ]
     },
     "execution_count": 5,
     "metadata": {},
     "output_type": "execute_result"
    }
   ],
   "source": [
    "df.fillna(0)\n",
    "df.dropna()\n",
    "df['Price'].value_counts()"
   ]
  },
  {
   "cell_type": "markdown",
   "metadata": {},
   "source": [
    "# حذف داده های تکراری "
   ]
  },
  {
   "cell_type": "code",
   "execution_count": 6,
   "metadata": {},
   "outputs": [],
   "source": [
    "df.drop_duplicates(inplace=True)"
   ]
  },
  {
   "cell_type": "markdown",
   "metadata": {},
   "source": [
    "# تبدیل داده های کتگوری به عددی"
   ]
  },
  {
   "cell_type": "code",
   "execution_count": 7,
   "metadata": {},
   "outputs": [],
   "source": [
    "from sklearn.preprocessing import LabelEncoder\n",
    "le = LabelEncoder()\n",
    "for column in df.select_dtypes(include=['object']):\n",
    "    df[column] = le.fit_transform(df[column])"
   ]
  },
  {
   "cell_type": "code",
   "execution_count": 8,
   "metadata": {},
   "outputs": [],
   "source": [
    "x = df.drop('Price' , axis= 1)\n",
    "y = df['Price']"
   ]
  },
  {
   "cell_type": "code",
   "execution_count": 9,
   "metadata": {},
   "outputs": [
    {
     "data": {
      "text/plain": [
       "array([[-0.83579838,  0.05287124, -1.1998014 , ..., -0.76671548,\n",
       "         0.01914546, -0.24334455],\n",
       "       [ 0.23947102,  0.05287124,  2.07090892, ..., -1.5328958 ,\n",
       "        -0.33754661, -0.83479875],\n",
       "       [-0.83579838,  0.05287124,  2.14201132, ..., -1.38391629,\n",
       "        -0.69423869, -0.58456813],\n",
       "       ...,\n",
       "       [ 0.03516984,  2.00533048,  1.71539693, ...,  1.21258368,\n",
       "         1.44591378, -1.28976353],\n",
       "       [-0.22289482,  2.00533048,  1.35988494, ...,  0.89334188,\n",
       "         0.70280528, -1.40350472],\n",
       "       [-0.23364752,  2.00533048,  1.35988494, ...,  0.65923123,\n",
       "         0.70280528, -1.35800824]])"
      ]
     },
     "execution_count": 9,
     "metadata": {},
     "output_type": "execute_result"
    }
   ],
   "source": [
    "from sklearn.preprocessing import StandardScaler\n",
    "\n",
    "md = StandardScaler()\n",
    "x = md.fit_transform(x)"
   ]
  },
  {
   "cell_type": "code",
   "execution_count": 10,
   "metadata": {},
   "outputs": [],
   "source": [
    "from sklearn.model_selection import train_test_split\n",
    "\n",
    "x_train , x_test , y_train , y_test = train_test_split(x , y , test_size = 0.2)"
   ]
  },
  {
   "cell_type": "code",
   "execution_count": 11,
   "metadata": {},
   "outputs": [
    {
     "name": "stdout",
     "output_type": "stream",
     "text": [
      "Features => Train : (413, 15) , Test : (104, 15)\n",
      "Label => Train : (413,) , Test : (104,)\n"
     ]
    }
   ],
   "source": [
    "print(f'Features => Train : {x_train.shape} , Test : {x_test.shape}')\n",
    "print(f'Label => Train : {y_train.shape} , Test : {y_test.shape}')"
   ]
  },
  {
   "cell_type": "code",
   "execution_count": 12,
   "metadata": {},
   "outputs": [],
   "source": [
    "from sklearn.metrics import accuracy_score , f1_score\n",
    "\n",
    "def cal_metrics(x_train , x_test , y_train , y_test):\n",
    "     acc_train = accuracy_score(y_true=y_train , y_pred=y_pred_train)\n",
    "     acc_test = accuracy_score(y_true=y_test , y_pred=y_pred_test)\n",
    "     p = precision_score(y_true=y_test , y_pred=y_pred_test)\n",
    "     r = recall_score(y_true=y_test , y_pred=y_pred_test)\n",
    "\n",
    "     print(f'acc_train : {acc_train} - acc_test : {acc_test} - precision : {p} - recall : {r}')\n",
    "    \n",
    "     return acc_train , acc_test , p , r"
   ]
  },
  {
   "cell_type": "code",
   "execution_count": null,
   "metadata": {},
   "outputs": [],
   "source": []
  }
 ],
 "metadata": {
  "kernelspec": {
   "display_name": "Python 3",
   "language": "python",
   "name": "python3"
  },
  "language_info": {
   "codemirror_mode": {
    "name": "ipython",
    "version": 3
   },
   "file_extension": ".py",
   "mimetype": "text/x-python",
   "name": "python",
   "nbconvert_exporter": "python",
   "pygments_lexer": "ipython3",
   "version": "3.12.2"
  }
 },
 "nbformat": 4,
 "nbformat_minor": 2
}
