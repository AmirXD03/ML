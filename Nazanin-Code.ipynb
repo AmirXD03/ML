{
 "cells": [
  {
   "cell_type": "code",
   "execution_count": 90,
   "metadata": {},
   "outputs": [],
   "source": [
    "import pandas as pd\n",
    "import numpy as np\n"
   ]
  },
  {
   "cell_type": "code",
   "execution_count": 91,
   "metadata": {},
   "outputs": [
    {
     "data": {
      "text/html": [
       "<div>\n",
       "<style scoped>\n",
       "    .dataframe tbody tr th:only-of-type {\n",
       "        vertical-align: middle;\n",
       "    }\n",
       "\n",
       "    .dataframe tbody tr th {\n",
       "        vertical-align: top;\n",
       "    }\n",
       "\n",
       "    .dataframe thead th {\n",
       "        text-align: right;\n",
       "    }\n",
       "</style>\n",
       "<table border=\"1\" class=\"dataframe\">\n",
       "  <thead>\n",
       "    <tr style=\"text-align: right;\">\n",
       "      <th></th>\n",
       "      <th>Model Name</th>\n",
       "      <th>Engine Type</th>\n",
       "      <th>HP or lbs thr ea engine</th>\n",
       "      <th>Max speed Knots</th>\n",
       "      <th>Rcmnd cruise Knots</th>\n",
       "      <th>Stall Knots dirty</th>\n",
       "      <th>Fuel gal/lbs</th>\n",
       "      <th>All eng rate of climb</th>\n",
       "      <th>Eng out rate of climb</th>\n",
       "      <th>Takeoff over 50ft</th>\n",
       "      <th>Landing over 50ft</th>\n",
       "      <th>Empty weight lbs</th>\n",
       "      <th>Length ft/in</th>\n",
       "      <th>Wing span ft/in</th>\n",
       "      <th>Range N.M.</th>\n",
       "      <th>Price</th>\n",
       "    </tr>\n",
       "  </thead>\n",
       "  <tbody>\n",
       "    <tr>\n",
       "      <th>0</th>\n",
       "      <td>100 Darter (S.L. Industries)</td>\n",
       "      <td>Piston</td>\n",
       "      <td>145</td>\n",
       "      <td>104</td>\n",
       "      <td>91.0</td>\n",
       "      <td>46.0</td>\n",
       "      <td>36</td>\n",
       "      <td>450</td>\n",
       "      <td>900.0</td>\n",
       "      <td>1300.0</td>\n",
       "      <td>2,050</td>\n",
       "      <td>1,180</td>\n",
       "      <td>25/3</td>\n",
       "      <td>37/5</td>\n",
       "      <td>370</td>\n",
       "      <td>1300000.0</td>\n",
       "    </tr>\n",
       "    <tr>\n",
       "      <th>1</th>\n",
       "      <td>7 CCM Champ</td>\n",
       "      <td>Piston</td>\n",
       "      <td>85</td>\n",
       "      <td>89</td>\n",
       "      <td>83.0</td>\n",
       "      <td>44.0</td>\n",
       "      <td>15</td>\n",
       "      <td>600</td>\n",
       "      <td>720.0</td>\n",
       "      <td>800.0</td>\n",
       "      <td>1,350</td>\n",
       "      <td>820</td>\n",
       "      <td>20/7</td>\n",
       "      <td>36/1</td>\n",
       "      <td>190</td>\n",
       "      <td>1230000.0</td>\n",
       "    </tr>\n",
       "    <tr>\n",
       "      <th>2</th>\n",
       "      <td>100 Darter (S.L. Industries)</td>\n",
       "      <td>Piston</td>\n",
       "      <td>90</td>\n",
       "      <td>90</td>\n",
       "      <td>78.0</td>\n",
       "      <td>37.0</td>\n",
       "      <td>19</td>\n",
       "      <td>650</td>\n",
       "      <td>475.0</td>\n",
       "      <td>850.0</td>\n",
       "      <td>1,300</td>\n",
       "      <td>810</td>\n",
       "      <td>21/5</td>\n",
       "      <td>35/0</td>\n",
       "      <td>210</td>\n",
       "      <td>1600000.0</td>\n",
       "    </tr>\n",
       "    <tr>\n",
       "      <th>3</th>\n",
       "      <td>7 AC Champ</td>\n",
       "      <td>Piston</td>\n",
       "      <td>85</td>\n",
       "      <td>88</td>\n",
       "      <td>78.0</td>\n",
       "      <td>37.0</td>\n",
       "      <td>19</td>\n",
       "      <td>620</td>\n",
       "      <td>500.0</td>\n",
       "      <td>850.0</td>\n",
       "      <td>1,300</td>\n",
       "      <td>800</td>\n",
       "      <td>21/5</td>\n",
       "      <td>35/0</td>\n",
       "      <td>210</td>\n",
       "      <td>1300000.0</td>\n",
       "    </tr>\n",
       "    <tr>\n",
       "      <th>4</th>\n",
       "      <td>100 Darter (S.L. Industries)</td>\n",
       "      <td>Piston</td>\n",
       "      <td>65</td>\n",
       "      <td>83</td>\n",
       "      <td>74.0</td>\n",
       "      <td>33.0</td>\n",
       "      <td>14</td>\n",
       "      <td>370</td>\n",
       "      <td>632.0</td>\n",
       "      <td>885.0</td>\n",
       "      <td>1,220</td>\n",
       "      <td>740</td>\n",
       "      <td>21/5</td>\n",
       "      <td>35/0</td>\n",
       "      <td>175</td>\n",
       "      <td>1250000.0</td>\n",
       "    </tr>\n",
       "    <tr>\n",
       "      <th>...</th>\n",
       "      <td>...</td>\n",
       "      <td>...</td>\n",
       "      <td>...</td>\n",
       "      <td>...</td>\n",
       "      <td>...</td>\n",
       "      <td>...</td>\n",
       "      <td>...</td>\n",
       "      <td>...</td>\n",
       "      <td>...</td>\n",
       "      <td>...</td>\n",
       "      <td>...</td>\n",
       "      <td>...</td>\n",
       "      <td>...</td>\n",
       "      <td>...</td>\n",
       "      <td>...</td>\n",
       "      <td>...</td>\n",
       "    </tr>\n",
       "    <tr>\n",
       "      <th>512</th>\n",
       "      <td>500 A</td>\n",
       "      <td>Propjet</td>\n",
       "      <td>1000</td>\n",
       "      <td>351</td>\n",
       "      <td>334.0</td>\n",
       "      <td>0.0</td>\n",
       "      <td>3819</td>\n",
       "      <td>3,242</td>\n",
       "      <td>1930.0</td>\n",
       "      <td>2280.0</td>\n",
       "      <td>12,050</td>\n",
       "      <td>7,856</td>\n",
       "      <td>43/5</td>\n",
       "      <td>47/8</td>\n",
       "      <td>1,879</td>\n",
       "      <td>4100000.0</td>\n",
       "    </tr>\n",
       "    <tr>\n",
       "      <th>513</th>\n",
       "      <td>100 Darter (S.L. Industries)</td>\n",
       "      <td>Propjet</td>\n",
       "      <td>720</td>\n",
       "      <td>312</td>\n",
       "      <td>288.0</td>\n",
       "      <td>89.0</td>\n",
       "      <td>578</td>\n",
       "      <td>2,380</td>\n",
       "      <td>2280.0</td>\n",
       "      <td>3043.0</td>\n",
       "      <td>11,200</td>\n",
       "      <td>6,837</td>\n",
       "      <td>43/5</td>\n",
       "      <td>47/8</td>\n",
       "      <td>1,722</td>\n",
       "      <td>3584000.0</td>\n",
       "    </tr>\n",
       "    <tr>\n",
       "      <th>514</th>\n",
       "      <td>520</td>\n",
       "      <td>Propjet</td>\n",
       "      <td>720</td>\n",
       "      <td>290</td>\n",
       "      <td>275.0</td>\n",
       "      <td>87.0</td>\n",
       "      <td>390</td>\n",
       "      <td>2,236</td>\n",
       "      <td>3230.0</td>\n",
       "      <td>3017.0</td>\n",
       "      <td>11,200</td>\n",
       "      <td>6,389</td>\n",
       "      <td>43/5</td>\n",
       "      <td>47/8</td>\n",
       "      <td>1,515</td>\n",
       "      <td>3200000.0</td>\n",
       "    </tr>\n",
       "    <tr>\n",
       "      <th>515</th>\n",
       "      <td>2180</td>\n",
       "      <td>Propjet</td>\n",
       "      <td>620</td>\n",
       "      <td>275</td>\n",
       "      <td>270.0</td>\n",
       "      <td>77.0</td>\n",
       "      <td>382</td>\n",
       "      <td>1,750</td>\n",
       "      <td>2940.0</td>\n",
       "      <td>2446.0</td>\n",
       "      <td>9,474</td>\n",
       "      <td>5,164</td>\n",
       "      <td>36/8</td>\n",
       "      <td>42/8</td>\n",
       "      <td>1,336</td>\n",
       "      <td>3240000.0</td>\n",
       "    </tr>\n",
       "    <tr>\n",
       "      <th>516</th>\n",
       "      <td>2150A Kachina</td>\n",
       "      <td>Propjet</td>\n",
       "      <td>620</td>\n",
       "      <td>283</td>\n",
       "      <td>269.0</td>\n",
       "      <td>75.0</td>\n",
       "      <td>382</td>\n",
       "      <td>2,710</td>\n",
       "      <td>1980.0</td>\n",
       "      <td>2480.0</td>\n",
       "      <td>9,000</td>\n",
       "      <td>5,018</td>\n",
       "      <td>34/8</td>\n",
       "      <td>42/8</td>\n",
       "      <td>1,444</td>\n",
       "      <td>3160000.0</td>\n",
       "    </tr>\n",
       "  </tbody>\n",
       "</table>\n",
       "<p>517 rows × 16 columns</p>\n",
       "</div>"
      ],
      "text/plain": [
       "                       Model Name Engine Type HP or lbs thr ea engine  \\\n",
       "0    100 Darter (S.L. Industries)      Piston                     145   \n",
       "1                     7 CCM Champ      Piston                      85   \n",
       "2    100 Darter (S.L. Industries)      Piston                      90   \n",
       "3                      7 AC Champ      Piston                      85   \n",
       "4    100 Darter (S.L. Industries)      Piston                      65   \n",
       "..                            ...         ...                     ...   \n",
       "512                         500 A     Propjet                    1000   \n",
       "513  100 Darter (S.L. Industries)     Propjet                     720   \n",
       "514                           520     Propjet                     720   \n",
       "515                          2180     Propjet                     620   \n",
       "516                 2150A Kachina     Propjet                     620   \n",
       "\n",
       "    Max speed Knots  Rcmnd cruise Knots  Stall Knots dirty  Fuel gal/lbs  \\\n",
       "0               104                91.0               46.0            36   \n",
       "1                89                83.0               44.0            15   \n",
       "2                90                78.0               37.0            19   \n",
       "3                88                78.0               37.0            19   \n",
       "4                83                74.0               33.0            14   \n",
       "..              ...                 ...                ...           ...   \n",
       "512             351               334.0                0.0          3819   \n",
       "513             312               288.0               89.0           578   \n",
       "514             290               275.0               87.0           390   \n",
       "515             275               270.0               77.0           382   \n",
       "516             283               269.0               75.0           382   \n",
       "\n",
       "    All eng rate of climb  Eng out rate of climb  Takeoff over 50ft  \\\n",
       "0                     450                  900.0             1300.0   \n",
       "1                     600                  720.0              800.0   \n",
       "2                     650                  475.0              850.0   \n",
       "3                     620                  500.0              850.0   \n",
       "4                     370                  632.0              885.0   \n",
       "..                    ...                    ...                ...   \n",
       "512                 3,242                 1930.0             2280.0   \n",
       "513                 2,380                 2280.0             3043.0   \n",
       "514                 2,236                 3230.0             3017.0   \n",
       "515                 1,750                 2940.0             2446.0   \n",
       "516                 2,710                 1980.0             2480.0   \n",
       "\n",
       "    Landing over 50ft Empty weight lbs Length ft/in Wing span ft/in  \\\n",
       "0               2,050            1,180         25/3            37/5   \n",
       "1               1,350              820         20/7            36/1   \n",
       "2               1,300              810         21/5            35/0   \n",
       "3               1,300              800         21/5            35/0   \n",
       "4               1,220              740         21/5            35/0   \n",
       "..                ...              ...          ...             ...   \n",
       "512            12,050            7,856         43/5            47/8   \n",
       "513            11,200            6,837         43/5            47/8   \n",
       "514            11,200            6,389         43/5            47/8   \n",
       "515             9,474            5,164         36/8            42/8   \n",
       "516             9,000            5,018         34/8            42/8   \n",
       "\n",
       "    Range N.M.      Price  \n",
       "0          370  1300000.0  \n",
       "1          190  1230000.0  \n",
       "2          210  1600000.0  \n",
       "3          210  1300000.0  \n",
       "4          175  1250000.0  \n",
       "..         ...        ...  \n",
       "512      1,879  4100000.0  \n",
       "513      1,722  3584000.0  \n",
       "514      1,515  3200000.0  \n",
       "515      1,336  3240000.0  \n",
       "516      1,444  3160000.0  \n",
       "\n",
       "[517 rows x 16 columns]"
      ]
     },
     "execution_count": 91,
     "metadata": {},
     "output_type": "execute_result"
    }
   ],
   "source": [
    "df = pd.read_csv('./PlanePrice.csv')\n",
    "df = df . fillna(0)\n",
    "df = df . dropna()\n",
    "df"
   ]
  },
  {
   "cell_type": "code",
   "execution_count": 92,
   "metadata": {},
   "outputs": [
    {
     "data": {
      "text/plain": [
       "(517, 16)"
      ]
     },
     "execution_count": 92,
     "metadata": {},
     "output_type": "execute_result"
    }
   ],
   "source": [
    "df.shape"
   ]
  },
  {
   "cell_type": "code",
   "execution_count": 93,
   "metadata": {},
   "outputs": [],
   "source": [
    "#  تا این جا 517 تا داده دازیم با 16 تا ستون\n",
    "\n",
    "#  محسوب میشود lable  است که  price  ستون اخر \n",
    "\n",
    "# هستند feature  ستون های دیگر \n"
   ]
  },
  {
   "cell_type": "code",
   "execution_count": 94,
   "metadata": {},
   "outputs": [
    {
     "data": {
      "text/plain": [
       "Price\n",
       "4500000.0    27\n",
       "2500000.0    23\n",
       "2000000.0    23\n",
       "4100000.0    20\n",
       "1600000.0    13\n",
       "             ..\n",
       "1940000.0     1\n",
       "3584000.0     1\n",
       "3200000.0     1\n",
       "3240000.0     1\n",
       "3160000.0     1\n",
       "Name: count, Length: 178, dtype: int64"
      ]
     },
     "execution_count": 94,
     "metadata": {},
     "output_type": "execute_result"
    }
   ],
   "source": [
    "df['Price'] .value_counts()"
   ]
  },
  {
   "cell_type": "code",
   "execution_count": 95,
   "metadata": {},
   "outputs": [],
   "source": [
    "# مثلا از کلاس 4500000 ، 27 تا نمونه داریم\n",
    "\n",
    "#  کلا 178 تا کلاس از نمونه های مختلف داریم"
   ]
  },
  {
   "cell_type": "code",
   "execution_count": 96,
   "metadata": {},
   "outputs": [],
   "source": [
    "x = df . drop( 'Price' , axis = 1)\n",
    "y = df['Price']\n",
    "\n",
    "#  x  =>>>  features\n",
    "#  y  =>>>  lable\n"
   ]
  },
  {
   "cell_type": "markdown",
   "metadata": {},
   "source": [
    "lableEncoder  چون داده های کتگوری داریم باید قبل از نرمالایز کردن استفاده کنیم از\n"
   ]
  },
  {
   "cell_type": "code",
   "execution_count": 97,
   "metadata": {},
   "outputs": [],
   "source": [
    "from sklearn.preprocessing import LabelEncoder\n",
    "\n",
    "df = pd.read_csv('PlanePrice.csv')\n",
    "\n",
    "encoder = LabelEncoder( )\n",
    "\n",
    "for column in df . select_dtypes(include = ['object']) :\n",
    "    df[column] = encoder . fit_transform(df[column])\n"
   ]
  },
  {
   "cell_type": "markdown",
   "metadata": {},
   "source": [
    "normalize"
   ]
  },
  {
   "cell_type": "code",
   "execution_count": 98,
   "metadata": {},
   "outputs": [
    {
     "data": {
      "text/plain": [
       "array([[-0.83579838,  0.05287124, -1.1998014 , ..., -0.76671548,\n",
       "         0.01914546, -0.24334455],\n",
       "       [ 0.23947102,  0.05287124,  2.07090892, ..., -1.5328958 ,\n",
       "        -0.33754661, -0.83479875],\n",
       "       [-0.83579838,  0.05287124,  2.14201132, ..., -1.38391629,\n",
       "        -0.69423869, -0.58456813],\n",
       "       ...,\n",
       "       [ 0.03516984,  2.00533048,  1.71539693, ...,  1.21258368,\n",
       "         1.44591378, -1.28976353],\n",
       "       [-0.22289482,  2.00533048,  1.35988494, ...,  0.89334188,\n",
       "         0.70280528, -1.40350472],\n",
       "       [-0.23364752,  2.00533048,  1.35988494, ...,  0.65923123,\n",
       "         0.70280528, -1.35800824]])"
      ]
     },
     "execution_count": 98,
     "metadata": {},
     "output_type": "execute_result"
    }
   ],
   "source": [
    "from sklearn.preprocessing import  StandardScaler\n",
    "\n",
    "\n",
    "x = df . drop( 'Price' , axis = 1)\n",
    "y = df['Price']\n",
    "\n",
    "scaler = StandardScaler( )\n",
    "x = scaler . fit_transform(x)\n",
    "x"
   ]
  },
  {
   "cell_type": "code",
   "execution_count": 99,
   "metadata": {},
   "outputs": [],
   "source": [
    "# بلاخره نرمالایز شد  x  \n",
    "#  :)"
   ]
  },
  {
   "cell_type": "markdown",
   "metadata": {},
   "source": [
    "test_train\n",
    "\n",
    "\n"
   ]
  },
  {
   "cell_type": "code",
   "execution_count": 100,
   "metadata": {},
   "outputs": [],
   "source": [
    "from sklearn.model_selection import train_test_split\n",
    "\n",
    "x_train , x_test  , y_train , y_test = train_test_split(x , y , test_size = 0.2)\n",
    "\n",
    "# بیست درصد داده ها را به عنوان تست در نظر میگیرم \n",
    "# هشتاد درصد داده ها را هم به عنوان ترین در نظر گرفتیم "
   ]
  },
  {
   "cell_type": "code",
   "execution_count": 101,
   "metadata": {},
   "outputs": [
    {
     "data": {
      "text/plain": [
       "((104, 15), (104,))"
      ]
     },
     "execution_count": 101,
     "metadata": {},
     "output_type": "execute_result"
    }
   ],
   "source": [
    "x_test.shape , y_test.shape"
   ]
  },
  {
   "cell_type": "code",
   "execution_count": 102,
   "metadata": {},
   "outputs": [
    {
     "data": {
      "text/plain": [
       "((413, 15), (413,))"
      ]
     },
     "execution_count": 102,
     "metadata": {},
     "output_type": "execute_result"
    }
   ],
   "source": [
    "x_train.shape , y_train.shape"
   ]
  }
 ],
 "metadata": {
  "kernelspec": {
   "display_name": "Python 3",
   "language": "python",
   "name": "python3"
  },
  "language_info": {
   "codemirror_mode": {
    "name": "ipython",
    "version": 3
   },
   "file_extension": ".py",
   "mimetype": "text/x-python",
   "name": "python",
   "nbconvert_exporter": "python",
   "pygments_lexer": "ipython3",
   "version": "3.12.2"
  }
 },
 "nbformat": 4,
 "nbformat_minor": 2
}
